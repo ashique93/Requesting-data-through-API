{
 "cells": [
  {
   "cell_type": "code",
   "execution_count": 6,
   "metadata": {},
   "outputs": [
    {
     "name": "stdout",
     "output_type": "stream",
     "text": [
      "Requirement already satisfied: requests in c:\\users\\ancna\\anaconda3\\lib\\site-packages (2.22.0)\n",
      "Collecting urllib3!=1.25.0,!=1.25.1,<1.26,>=1.21.1\n",
      "  Downloading urllib3-1.25.11-py2.py3-none-any.whl (127 kB)\n",
      "     -------------------------------------- 128.0/128.0 kB 3.7 MB/s eta 0:00:00\n",
      "Requirement already satisfied: chardet<3.1.0,>=3.0.2 in c:\\users\\ancna\\anaconda3\\lib\\site-packages (from requests) (3.0.4)\n",
      "Requirement already satisfied: idna<2.9,>=2.5 in c:\\users\\ancna\\anaconda3\\lib\\site-packages (from requests) (2.8)\n",
      "Requirement already satisfied: certifi>=2017.4.17 in c:\\users\\ancna\\anaconda3\\lib\\site-packages (from requests) (2019.6.16)\n",
      "Installing collected packages: urllib3\n",
      "  Attempting uninstall: urllib3\n",
      "    Found existing installation: urllib3 1.26.12\n",
      "    Uninstalling urllib3-1.26.12:\n",
      "      Successfully uninstalled urllib3-1.26.12\n",
      "Successfully installed urllib3-1.25.11\n"
     ]
    },
    {
     "name": "stderr",
     "output_type": "stream",
     "text": [
      "WARNING: Ignoring invalid distribution -umpy (c:\\users\\ancna\\anaconda3\\lib\\site-packages)\n",
      "WARNING: Ignoring invalid distribution -umpy (c:\\users\\ancna\\anaconda3\\lib\\site-packages)\n",
      "WARNING: Ignoring invalid distribution -umpy (c:\\users\\ancna\\anaconda3\\lib\\site-packages)\n",
      "    WARNING: Ignoring invalid distribution -umpy (c:\\users\\ancna\\anaconda3\\lib\\site-packages)\n",
      "WARNING: Ignoring invalid distribution -umpy (c:\\users\\ancna\\anaconda3\\lib\\site-packages)\n",
      "WARNING: Ignoring invalid distribution -umpy (c:\\users\\ancna\\anaconda3\\lib\\site-packages)\n",
      "WARNING: Ignoring invalid distribution -umpy (c:\\users\\ancna\\anaconda3\\lib\\site-packages)\n",
      "WARNING: Ignoring invalid distribution -umpy (c:\\users\\ancna\\anaconda3\\lib\\site-packages)\n"
     ]
    }
   ],
   "source": [
    "!pip3 install requests"
   ]
  },
  {
   "cell_type": "code",
   "execution_count": 20,
   "metadata": {},
   "outputs": [],
   "source": [
    "import requests\n",
    "import json\n",
    "import pandas as pd\n",
    "import numpy as np"
   ]
  },
  {
   "cell_type": "code",
   "execution_count": 10,
   "metadata": {},
   "outputs": [],
   "source": [
    "response = requests.get('https://api.stackexchange.com/2.3/questions?order=desc&sort=activity&site=stackoverflow')"
   ]
  },
  {
   "cell_type": "code",
   "execution_count": 11,
   "metadata": {},
   "outputs": [
    {
     "name": "stdout",
     "output_type": "stream",
     "text": [
      "<Response [200]>\n"
     ]
    }
   ],
   "source": [
    "print(response)"
   ]
  },
  {
   "cell_type": "markdown",
   "metadata": {},
   "source": [
    "### Returned data through python in the same way as if we requested in the web browser or with POSTMAN"
   ]
  },
  {
   "cell_type": "code",
   "execution_count": 12,
   "metadata": {},
   "outputs": [
    {
     "name": "stdout",
     "output_type": "stream",
     "text": [
      "{'items': [{'tags': ['python', 'apache-spark', 'pyspark', 'apache-spark-sql'], 'owner': {'account_id': 23338162, 'reputation': 1, 'user_id': 20171125, 'user_type': 'registered', 'profile_image': 'https://www.gravatar.com/avatar/4f5face92056b18bbd5dbbd53e6d1dd1?s=256&d=identicon&r=PG', 'display_name': 'Deda01', 'link': 'https://stackoverflow.com/users/20171125/deda01'}, 'is_answered': False, 'view_count': 11, 'answer_count': 1, 'score': -1, 'last_activity_date': 1665017735, 'creation_date': 1665014182, 'question_id': 73967391, 'content_license': 'CC BY-SA 4.0', 'link': 'https://stackoverflow.com/questions/73967391/how-to-convert-itens-of-a-column-into-an-array-or-list', 'title': 'how to convert itens of a column into an array or list?'}, {'tags': ['adobe-illustrator'], 'owner': {'account_id': 1480729, 'reputation': 10039, 'user_id': 1390192, 'user_type': 'registered', 'accept_rate': 79, 'profile_image': 'https://www.gravatar.com/avatar/2011214205e164fbfd409cf42a0d23c9?s=256&d=identicon&r=PG', 'display_name': 'tmighty', 'link': 'https://stackoverflow.com/users/1390192/tmighty'}, 'is_answered': False, 'view_count': 17, 'answer_count': 0, 'score': 0, 'last_activity_date': 1665017733, 'creation_date': 1665008426, 'last_edit_date': 1665017733, 'question_id': 73966861, 'content_license': 'CC BY-SA 4.0', 'link': 'https://stackoverflow.com/questions/73966861/how-do-i-edit-output-files-programmatically-without-adobe-illustrator', 'title': 'How do I edit / output files programmatically without Adobe Illustrator?'}, {'tags': ['java', 'concatenation', 'variable-assignment'], 'owner': {'account_id': 26539891, 'reputation': 1, 'user_id': 20170816, 'user_type': 'registered', 'profile_image': 'https://www.gravatar.com/avatar/4824908171694f7c7c05dc9b60d81ced?s=256&d=identicon&r=PG', 'display_name': 'JMonster18', 'link': 'https://stackoverflow.com/users/20170816/jmonster18'}, 'is_answered': False, 'view_count': 20, 'answer_count': 0, 'score': -1, 'last_activity_date': 1665017733, 'creation_date': 1665011917, 'last_edit_date': 1665017733, 'question_id': 73967203, 'content_license': 'CC BY-SA 4.0', 'link': 'https://stackoverflow.com/questions/73967203/how-can-you-define-a-concatenated-string-as-a-variable-in-java', 'title': 'How can you define a concatenated string as a variable in Java'}, {'tags': ['python', 'algorithm', 'tensorflow', 'machine-learning'], 'owner': {'account_id': 26539176, 'reputation': 1, 'user_id': 20170215, 'user_type': 'registered', 'profile_image': 'https://lh3.googleusercontent.com/a/ALm5wu30Mff6t_FHtmixZ1ZNYaTMz5ulsI7lwaRa-ck5=k-s256', 'display_name': 'vikram reddy', 'link': 'https://stackoverflow.com/users/20170215/vikram-reddy'}, 'is_answered': False, 'view_count': 3, 'answer_count': 0, 'score': -1, 'last_activity_date': 1665017729, 'creation_date': 1665017316, 'last_edit_date': 1665017729, 'question_id': 73967631, 'content_license': 'CC BY-SA 4.0', 'link': 'https://stackoverflow.com/questions/73967631/multi-output-multi-classification-problem', 'title': 'multi-output-multi-classification problem'}, {'tags': ['gtsummary'], 'owner': {'account_id': 26536244, 'reputation': 1, 'user_id': 20167741, 'user_type': 'registered', 'profile_image': 'https://www.gravatar.com/avatar/d26fcea41cd3aaf6f06b76f8258030ed?s=256&d=identicon&r=PG', 'display_name': 'Danielle', 'link': 'https://stackoverflow.com/users/20167741/danielle'}, 'is_answered': False, 'view_count': 52, 'answer_count': 0, 'score': 0, 'last_activity_date': 1665017701, 'creation_date': 1664979728, 'last_edit_date': 1665017701, 'question_id': 73961836, 'content_license': 'CC BY-SA 4.0', 'link': 'https://stackoverflow.com/questions/73961836/tbl-strata-count-by-distinct-individual-vs-rows', 'title': 'Tbl_Strata count by distinct individual vs rows'}, {'tags': ['javascript', 'java', 'chart.js'], 'owner': {'account_id': 22353093, 'reputation': 48, 'user_id': 16570842, 'user_type': 'registered', 'profile_image': 'https://i.stack.imgur.com/cUDr0.jpg?s=256&g=1', 'display_name': 'Ironman', 'link': 'https://stackoverflow.com/users/16570842/ironman'}, 'is_answered': False, 'view_count': 4, 'answer_count': 0, 'score': -1, 'last_activity_date': 1665017671, 'creation_date': 1665017671, 'question_id': 73967662, 'content_license': 'CC BY-SA 4.0', 'link': 'https://stackoverflow.com/questions/73967662/chart-js-3-7-1-how-can-i-always-show-the-tooltip', 'title': '(Chart.js 3.7.1) How can I always show the tooltip?'}, {'tags': ['flutter', 'object', 'post'], 'owner': {'account_id': 25306072, 'reputation': 3, 'user_id': 19129582, 'user_type': 'registered', 'profile_image': 'https://lh3.googleusercontent.com/a-/AOh14Ggyi2D1m5TDVxyTTXQAW6Sy2AXyiwwTsufhVVc8_Q=k-s256', 'display_name': 'Syed Faizan', 'link': 'https://stackoverflow.com/users/19129582/syed-faizan'}, 'is_answered': True, 'view_count': 418, 'accepted_answer_id': 72263757, 'answer_count': 3, 'score': 0, 'last_activity_date': 1665017668, 'creation_date': 1652721830, 'last_edit_date': 1652722310, 'question_id': 72263225, 'content_license': 'CC BY-SA 4.0', 'link': 'https://stackoverflow.com/questions/72263225/passing-api-post-request-for-multiple-objects-in-flutter', 'title': 'Passing Api Post Request for multiple Objects in Flutter'}, {'tags': ['arrays', 'multidimensional-array', 'datatable', 'treeview', 'push'], 'owner': {'account_id': 26206238, 'reputation': 1, 'user_id': 19885788, 'user_type': 'registered', 'profile_image': 'https://www.gravatar.com/avatar/d419be03a39f69f9461221ef7e155c5f?s=256&d=identicon&r=PG', 'display_name': 'Bruno Pavasović', 'link': 'https://stackoverflow.com/users/19885788/bruno-pavasovi%c4%87'}, 'is_answered': False, 'view_count': 23, 'answer_count': 0, 'score': 0, 'last_activity_date': 1665017667, 'creation_date': 1664964233, 'last_edit_date': 1665017667, 'question_id': 73958801, 'content_license': 'CC BY-SA 4.0', 'link': 'https://stackoverflow.com/questions/73958801/how-to-push-value-in-array-inside-array-that-is-in-state', 'title': 'How to push value in array inside array that is in state'}, {'tags': ['javascript', 'html', 'css'], 'owner': {'account_id': 12158291, 'reputation': 57, 'user_id': 15639982, 'user_type': 'registered', 'profile_image': 'https://www.gravatar.com/avatar/14511a6460fdc1e370d90ea87d107888?s=256&d=identicon&r=PG&f=1', 'display_name': 'Estudante', 'link': 'https://stackoverflow.com/users/15639982/estudante'}, 'is_answered': False, 'view_count': 3, 'answer_count': 0, 'score': -1, 'last_activity_date': 1665017665, 'creation_date': 1665017665, 'question_id': 73967661, 'content_license': 'CC BY-SA 4.0', 'link': 'https://stackoverflow.com/questions/73967661/how-to-change-table-cell-background-color-using-javascript', 'title': 'How to change table cell background color using javascript?'}, {'tags': ['javascript', 'reactjs'], 'owner': {'account_id': 14230470, 'reputation': 21, 'user_id': 10279867, 'user_type': 'registered', 'profile_image': 'https://www.gravatar.com/avatar/ded5a0b189adffd7eee067ceaefc8468?s=256&d=identicon&r=PG', 'display_name': 'ja vis', 'link': 'https://stackoverflow.com/users/10279867/ja-vis'}, 'is_answered': False, 'view_count': 5, 'answer_count': 0, 'score': 0, 'last_activity_date': 1665017659, 'creation_date': 1665017060, 'last_edit_date': 1665017659, 'question_id': 73967615, 'content_license': 'CC BY-SA 4.0', 'link': 'https://stackoverflow.com/questions/73967615/how-to-stop-dragging-when-child-element-is-scrolling-on-using-usegesture', 'title': 'How to stop dragging when child element is scrolling on using useGesture?'}, {'tags': ['vue.js', 'vuex', 'reactive', 'computed-properties'], 'owner': {'account_id': 15959564, 'reputation': 831, 'user_id': 11517037, 'user_type': 'registered', 'profile_image': 'https://lh5.googleusercontent.com/-87W6Ky-okN4/AAAAAAAAAAI/AAAAAAAAAAA/ACHi3rfMG0yOHSQjMXB6-z_7ka20FySc6w/mo/photo.jpg?sz=256', 'display_name': 'Sergei Illarionov', 'link': 'https://stackoverflow.com/users/11517037/sergei-illarionov'}, 'is_answered': False, 'view_count': 54, 'answer_count': 1, 'score': 0, 'last_activity_date': 1665017647, 'creation_date': 1664993142, 'question_id': 73964531, 'content_license': 'CC BY-SA 4.0', 'link': 'https://stackoverflow.com/questions/73964531/vue-store-and-computed-doesnot-reactive-even-with-vue-set', 'title': 'Vue store and computed doesnot reactive even with vue set'}, {'tags': ['java', 'arrays', 'sorting', 'union'], 'owner': {'account_id': 24196735, 'reputation': 11, 'user_id': 18155161, 'user_type': 'registered', 'profile_image': 'https://lh3.googleusercontent.com/a-/AOh14GhVofqD_Z-IWX_GbMVb-BoZJ87KYgY4BAxdefU_Fg=k-s256', 'display_name': 'CBRrider', 'link': 'https://stackoverflow.com/users/18155161/cbrrider'}, 'is_answered': False, 'view_count': 33, 'answer_count': 0, 'score': 0, 'last_activity_date': 1665017638, 'creation_date': 1665012855, 'last_edit_date': 1665017638, 'question_id': 73967293, 'content_license': 'CC BY-SA 4.0', 'link': 'https://stackoverflow.com/questions/73967293/how-do-i-union-integer-set', 'title': 'How do I union integer set?'}, {'tags': ['python', 'type-hinting', 'mypy', 'python-typing'], 'owner': {'account_id': 7100383, 'reputation': 841, 'user_id': 5432214, 'user_type': 'registered', 'profile_image': 'https://lh4.googleusercontent.com/-EGuZ5o8Nc34/AAAAAAAAAAI/AAAAAAAAAGk/v88_uoI6xDc/photo.jpg?sz=256', 'display_name': 'HitLuca', 'link': 'https://stackoverflow.com/users/5432214/hitluca'}, 'is_answered': True, 'view_count': 1911, 'accepted_answer_id': 68283181, 'answer_count': 2, 'score': 8, 'last_activity_date': 1665017632, 'creation_date': 1625647729, 'last_edit_date': 1633286386, 'question_id': 68282879, 'content_license': 'CC BY-SA 4.0', 'link': 'https://stackoverflow.com/questions/68282879/type-hint-for-return-value-in-subclass', 'title': 'Type hint for return value in subclass'}, {'tags': ['ruby-on-rails', 'ruby-on-rails-4', 'erb'], 'owner': {'account_id': 3380713, 'reputation': 6751, 'user_id': 2837813, 'user_type': 'registered', 'accept_rate': 81, 'profile_image': 'https://i.stack.imgur.com/5Xggf.png?s=256&g=1', 'display_name': 'ProGM', 'link': 'https://stackoverflow.com/users/2837813/progm'}, 'is_answered': False, 'view_count': 279, 'answer_count': 1, 'score': 1, 'last_activity_date': 1665017628, 'creation_date': 1430225544, 'question_id': 29920069, 'content_license': 'CC BY-SA 3.0', 'link': 'https://stackoverflow.com/questions/29920069/assets-pipeline-exclude-list', 'title': 'Assets pipeline exclude list'}, {'tags': ['r'], 'owner': {'account_id': 24886045, 'reputation': 1, 'user_id': 18758643, 'user_type': 'registered', 'profile_image': 'https://lh3.googleusercontent.com/a/AATXAJwg0CFein-sWjFqHYCvFc6H37hUZWyTE6xNXkpm=k-s256', 'display_name': 'ethan Campbell', 'link': 'https://stackoverflow.com/users/18758643/ethan-campbell'}, 'is_answered': False, 'view_count': 11, 'answer_count': 0, 'score': 0, 'last_activity_date': 1665017627, 'creation_date': 1665015847, 'last_edit_date': 1665017627, 'question_id': 73967525, 'content_license': 'CC BY-SA 4.0', 'link': 'https://stackoverflow.com/questions/73967525/pivot-wider-is-giving-a-lot-of-n-a-values-when-reshaping', 'title': 'Pivot_wider is giving a lot of N/A values when reshaping'}, {'tags': ['material-ui'], 'owner': {'account_id': 940048, 'reputation': 3215, 'user_id': 968273, 'user_type': 'registered', 'accept_rate': 59, 'profile_image': 'https://www.gravatar.com/avatar/120ce8144b39ddb9b146dbe706808246?s=256&d=identicon&r=PG', 'display_name': 'GLP', 'link': 'https://stackoverflow.com/users/968273/glp'}, 'is_answered': False, 'view_count': 14, 'answer_count': 0, 'score': 0, 'last_activity_date': 1665017620, 'creation_date': 1665014246, 'last_edit_date': 1665017620, 'question_id': 73967402, 'content_license': 'CC BY-SA 4.0', 'link': 'https://stackoverflow.com/questions/73967402/how-to-use-a-button-to-control-material-ui-v5-datepicker-dialog-open-close', 'title': 'How to use a button to control material ui v5 datepicker dialog open/close?'}, {'tags': ['c#', 'asp.net', 'asp.net-mvc', 'asp.net-mvc-4', 'razor'], 'owner': {'account_id': 4487726, 'reputation': 179, 'user_id': 3649784, 'user_type': 'registered', 'accept_rate': 60, 'profile_image': 'https://i.stack.imgur.com/tZPoX.jpg?s=256&g=1', 'display_name': 'Effy Sille', 'link': 'https://stackoverflow.com/users/3649784/effy-sille'}, 'is_answered': True, 'view_count': 6560, 'accepted_answer_id': 42633205, 'answer_count': 3, 'score': 3, 'last_activity_date': 1665017613, 'creation_date': 1488822528, 'last_edit_date': 1539679512, 'question_id': 42632291, 'content_license': 'CC BY-SA 4.0', 'link': 'https://stackoverflow.com/questions/42632291/get-a-default-null-value-from-dropdownlist-in-asp-net-mvc', 'title': 'Get a default NULL value from DropDownList in ASP.NET MVC'}, {'tags': ['recursion', 'subset', 'combinations', 'permutation', 'backtracking'], 'owner': {'account_id': 22322485, 'reputation': 1, 'user_id': 20171258, 'user_type': 'registered', 'profile_image': 'https://lh3.googleusercontent.com/a/AATXAJykFd7q_8Aa1LwZPxu_-GZTva5Lx_RVMDULs_0z=k-s256', 'display_name': 'Rebecca Deitch', 'link': 'https://stackoverflow.com/users/20171258/rebecca-deitch'}, 'is_answered': False, 'view_count': 3, 'answer_count': 0, 'score': 0, 'last_activity_date': 1665017608, 'creation_date': 1665017608, 'question_id': 73967658, 'content_license': 'CC BY-SA 4.0', 'link': 'https://stackoverflow.com/questions/73967658/backtracking-and-permutations', 'title': 'Backtracking and Permutations'}, {'tags': ['html', 'forms'], 'owner': {'account_id': 22645106, 'reputation': 73, 'user_id': 16820598, 'user_type': 'registered', 'profile_image': 'https://www.gravatar.com/avatar/6e111c538e68ed7526787bc46cfe19cf?s=256&d=identicon&r=PG&f=1', 'display_name': 'Riddhi Vekariya', 'link': 'https://stackoverflow.com/users/16820598/riddhi-vekariya'}, 'is_answered': False, 'view_count': 4, 'answer_count': 0, 'score': 0, 'last_activity_date': 1665017605, 'creation_date': 1665017605, 'question_id': 73967657, 'content_license': 'CC BY-SA 4.0', 'link': 'https://stackoverflow.com/questions/73967657/html-input-type-that-allows-to-type-but-user-has-to-choose-from-dropdown', 'title': 'HTML Input type that allows to type but user has to choose from dropdown'}, {'tags': ['linux', 'exception', 'operating-system', 'page-fault'], 'owner': {'account_id': 18186116, 'reputation': 121, 'user_id': 13232804, 'user_type': 'registered', 'profile_image': 'https://www.gravatar.com/avatar/17c5bc768a11c5f614bfb8dd4c9da20f?s=256&d=identicon&r=PG&f=1', 'display_name': 'ballsmahoney', 'link': 'https://stackoverflow.com/users/13232804/ballsmahoney'}, 'is_answered': False, 'view_count': 3, 'answer_count': 0, 'score': 0, 'last_activity_date': 1665017598, 'creation_date': 1665017598, 'question_id': 73967656, 'content_license': 'CC BY-SA 4.0', 'link': 'https://stackoverflow.com/questions/73967656/do-page-faults-automatically-invoke-the-operating-system', 'title': 'Do Page Faults automatically invoke the Operating System?'}, {'tags': ['amazon-web-services', 'amazon-s3', 'amazon-rekognition'], 'owner': {'account_id': 25784585, 'reputation': 11, 'user_id': 19529650, 'user_type': 'registered', 'profile_image': 'https://i.stack.imgur.com/qYTWg.jpg?s=256&g=1', 'display_name': 'Eduardo Nicolalde', 'link': 'https://stackoverflow.com/users/19529650/eduardo-nicolalde'}, 'is_answered': False, 'view_count': 22, 'answer_count': 1, 'score': 0, 'last_activity_date': 1665017593, 'creation_date': 1665007065, 'question_id': 73966708, 'content_license': 'CC BY-SA 4.0', 'link': 'https://stackoverflow.com/questions/73966708/aws-rekognition-request-has-invalid-image-format', 'title': 'AWS rekognition Request has invalid image format'}, {'tags': ['git', 'go', 'github'], 'owner': {'account_id': 45660, 'reputation': 34432, 'user_id': 134702, 'user_type': 'registered', 'accept_rate': 81, 'profile_image': 'https://www.gravatar.com/avatar/7c1594304f3515b88e31bc8888f0f593?s=256&d=identicon&r=PG', 'display_name': 'hookenz', 'link': 'https://stackoverflow.com/users/134702/hookenz'}, 'is_answered': False, 'view_count': 3, 'answer_count': 0, 'score': 0, 'last_activity_date': 1665017590, 'creation_date': 1665017590, 'question_id': 73967655, 'content_license': 'CC BY-SA 4.0', 'link': 'https://stackoverflow.com/questions/73967655/check-if-commit-hash-is-only-included-in-a-branch-on-a-remote-repo', 'title': 'Check if commit hash is only included in a branch on a remote repo'}, {'tags': ['java', 'drjava'], 'owner': {'account_id': 17195088, 'reputation': 17, 'user_id': 12448048, 'user_type': 'registered', 'profile_image': 'https://www.gravatar.com/avatar/204b38449085c5e903d1010c7e4644aa?s=256&d=identicon&r=PG', 'display_name': 'Jaret Sanchez', 'link': 'https://stackoverflow.com/users/12448048/jaret-sanchez'}, 'is_answered': False, 'view_count': 3, 'answer_count': 0, 'score': 0, 'last_activity_date': 1665017587, 'creation_date': 1665017587, 'question_id': 73967654, 'content_license': 'CC BY-SA 4.0', 'link': 'https://stackoverflow.com/questions/73967654/changing-specific-time-variable-fields-changes-whole-time-variable', 'title': 'Changing specific time variable fields changes whole time variable'}, {'tags': ['javascript', 'express', 'axios'], 'owner': {'account_id': 16894019, 'reputation': 175, 'user_id': 12216998, 'user_type': 'registered', 'profile_image': 'https://lh3.googleusercontent.com/-EGYojHgpBFg/AAAAAAAAAAI/AAAAAAAAAAA/ACHi3rem5PbvOAH3WJ_w4SbJ2BaLVrUxzw/photo.jpg?sz=256', 'display_name': 'Thomas', 'link': 'https://stackoverflow.com/users/12216998/thomas'}, 'is_answered': False, 'view_count': 6, 'answer_count': 0, 'score': -1, 'last_activity_date': 1665017578, 'creation_date': 1665017578, 'question_id': 73967653, 'content_license': 'CC BY-SA 4.0', 'link': 'https://stackoverflow.com/questions/73967653/axios-returning-invalid-api-key-you-must-be-granted-a-valid-key-after-reques', 'title': 'Axios returning &#39;Invalid API key: You must be granted a valid key.&#39; after requests to TMDB'}, {'tags': ['javascript', 'mongodb', 'aggregation'], 'owner': {'account_id': 26540482, 'reputation': 1, 'user_id': 20171313, 'user_type': 'registered', 'profile_image': 'https://lh3.googleusercontent.com/a/ALm5wu2wKSvy6ltjbgawywYeH1D6g7VZMAJduCCx7Ii0=k-s256', 'display_name': 'chiElephant', 'link': 'https://stackoverflow.com/users/20171313/chielephant'}, 'is_answered': False, 'view_count': 4, 'answer_count': 0, 'score': 0, 'last_activity_date': 1665017573, 'creation_date': 1665017573, 'question_id': 73967652, 'content_license': 'CC BY-SA 4.0', 'link': 'https://stackoverflow.com/questions/73967652/mongodb-turn-embedded-array-of-objects-into-embedded-object-of-objects', 'title': 'MongoDB -&gt; turn embedded array of objects into embedded object of objects'}, {'tags': ['typescript', 'module', 'babeljs', 'babel-loader'], 'owner': {'account_id': 923809, 'reputation': 70310, 'user_id': 954986, 'user_type': 'registered', 'accept_rate': 63, 'profile_image': 'https://i.stack.imgur.com/LT4wS.png?s=256&g=1', 'display_name': 'Nathan', 'link': 'https://stackoverflow.com/users/954986/nathan'}, 'is_answered': True, 'view_count': 80, 'bounty_amount': 500, 'bounty_closes_date': 1665608151, 'accepted_answer_id': 73967305, 'answer_count': 1, 'score': 0, 'last_activity_date': 1665017552, 'creation_date': 1664745898, 'question_id': 73929449, 'content_license': 'CC BY-SA 4.0', 'link': 'https://stackoverflow.com/questions/73929449/how-to-create-typescript-module-definition-a-for-a-babel-plugin-content-transfor', 'title': 'How to create Typescript module definition a for a babel-plugin-content-transformer directory?'}, {'tags': ['javascript', 'python', 'json', 'python-3.x'], 'owner': {'account_id': 472589, 'reputation': 918, 'user_id': 881150, 'user_type': 'registered', 'accept_rate': 52, 'profile_image': 'https://www.gravatar.com/avatar/7b26d6dd4aea0f6b5b7b617bea89e246?s=256&d=identicon&r=PG', 'display_name': 'abhinav singh', 'link': 'https://stackoverflow.com/users/881150/abhinav-singh'}, 'is_answered': False, 'view_count': 33, 'answer_count': 1, 'score': 0, 'last_activity_date': 1665017545, 'creation_date': 1665007167, 'last_edit_date': 1665013217, 'question_id': 73966718, 'content_license': 'CC BY-SA 4.0', 'link': 'https://stackoverflow.com/questions/73966718/inserting-values-into-js-scripts-using-python', 'title': 'Inserting values into JS scripts using python'}, {'tags': ['c#', 'unity3d', 'io'], 'owner': {'account_id': 12535291, 'reputation': 672, 'user_id': 9122129, 'user_type': 'registered', 'profile_image': 'https://i.stack.imgur.com/oLWLH.png?s=256&g=1', 'display_name': 'ViktorMS', 'link': 'https://stackoverflow.com/users/9122129/viktorms'}, 'is_answered': False, 'view_count': 14, 'answer_count': 2, 'score': 0, 'last_activity_date': 1665017542, 'creation_date': 1665012981, 'question_id': 73967299, 'content_license': 'CC BY-SA 4.0', 'link': 'https://stackoverflow.com/questions/73967299/detect-mouse-released-in-unity-new-input-system', 'title': 'Detect mouse released in Unity new input system'}, {'tags': ['git', 'github'], 'owner': {'account_id': 26203002, 'reputation': 11, 'user_id': 19883046, 'user_type': 'registered', 'profile_image': 'https://www.gravatar.com/avatar/34c11af297d917728b1a65a18bcac59c?s=256&d=identicon&r=PG', 'display_name': 'maxheezy&#39;s', 'link': 'https://stackoverflow.com/users/19883046/maxheezys'}, 'is_answered': False, 'view_count': 8, 'answer_count': 1, 'score': 0, 'last_activity_date': 1665017538, 'creation_date': 1665016521, 'question_id': 73967577, 'content_license': 'CC BY-SA 4.0', 'link': 'https://stackoverflow.com/questions/73967577/how-to-get-the-most-recent-commits-in-my-github-repository-to-show-in-vscode', 'title': 'How to get the most recent commits in my github repository to show in vscode'}, {'tags': ['google-apps-script', 'visual-studio-code', 'clasp'], 'owner': {'account_id': 2458991, 'reputation': 143, 'user_id': 2143528, 'user_type': 'registered', 'profile_image': 'https://www.gravatar.com/avatar/f9e9c3d2fdfc3fdb0c287e257025a912?s=256&d=identicon&r=PG', 'display_name': 'an d re', 'link': 'https://stackoverflow.com/users/2143528/an-d-re'}, 'is_answered': False, 'view_count': 410, 'answer_count': 1, 'score': 12, 'last_activity_date': 1665017536, 'creation_date': 1558442444, 'last_edit_date': 1558443857, 'question_id': 56238534, 'content_license': 'CC BY-SA 4.0', 'link': 'https://stackoverflow.com/questions/56238534/make-vscode-syntax-highlighting-accept-google-apps-script-scriptlets', 'title': 'Make VSCode syntax highlighting accept Google Apps Script Scriptlets'}], 'has_more': True, 'quota_max': 300, 'quota_remaining': 292}\n"
     ]
    }
   ],
   "source": [
    "print(response.json())"
   ]
  },
  {
   "cell_type": "raw",
   "metadata": {},
   "source": [
    "Instead of having key value pairs we can just explore items specifically by passing in items here"
   ]
  },
  {
   "cell_type": "code",
   "execution_count": 13,
   "metadata": {},
   "outputs": [
    {
     "name": "stdout",
     "output_type": "stream",
     "text": [
      "[{'tags': ['python', 'apache-spark', 'pyspark', 'apache-spark-sql'], 'owner': {'account_id': 23338162, 'reputation': 1, 'user_id': 20171125, 'user_type': 'registered', 'profile_image': 'https://www.gravatar.com/avatar/4f5face92056b18bbd5dbbd53e6d1dd1?s=256&d=identicon&r=PG', 'display_name': 'Deda01', 'link': 'https://stackoverflow.com/users/20171125/deda01'}, 'is_answered': False, 'view_count': 11, 'answer_count': 1, 'score': -1, 'last_activity_date': 1665017735, 'creation_date': 1665014182, 'question_id': 73967391, 'content_license': 'CC BY-SA 4.0', 'link': 'https://stackoverflow.com/questions/73967391/how-to-convert-itens-of-a-column-into-an-array-or-list', 'title': 'how to convert itens of a column into an array or list?'}, {'tags': ['adobe-illustrator'], 'owner': {'account_id': 1480729, 'reputation': 10039, 'user_id': 1390192, 'user_type': 'registered', 'accept_rate': 79, 'profile_image': 'https://www.gravatar.com/avatar/2011214205e164fbfd409cf42a0d23c9?s=256&d=identicon&r=PG', 'display_name': 'tmighty', 'link': 'https://stackoverflow.com/users/1390192/tmighty'}, 'is_answered': False, 'view_count': 17, 'answer_count': 0, 'score': 0, 'last_activity_date': 1665017733, 'creation_date': 1665008426, 'last_edit_date': 1665017733, 'question_id': 73966861, 'content_license': 'CC BY-SA 4.0', 'link': 'https://stackoverflow.com/questions/73966861/how-do-i-edit-output-files-programmatically-without-adobe-illustrator', 'title': 'How do I edit / output files programmatically without Adobe Illustrator?'}, {'tags': ['java', 'concatenation', 'variable-assignment'], 'owner': {'account_id': 26539891, 'reputation': 1, 'user_id': 20170816, 'user_type': 'registered', 'profile_image': 'https://www.gravatar.com/avatar/4824908171694f7c7c05dc9b60d81ced?s=256&d=identicon&r=PG', 'display_name': 'JMonster18', 'link': 'https://stackoverflow.com/users/20170816/jmonster18'}, 'is_answered': False, 'view_count': 20, 'answer_count': 0, 'score': -1, 'last_activity_date': 1665017733, 'creation_date': 1665011917, 'last_edit_date': 1665017733, 'question_id': 73967203, 'content_license': 'CC BY-SA 4.0', 'link': 'https://stackoverflow.com/questions/73967203/how-can-you-define-a-concatenated-string-as-a-variable-in-java', 'title': 'How can you define a concatenated string as a variable in Java'}, {'tags': ['python', 'algorithm', 'tensorflow', 'machine-learning'], 'owner': {'account_id': 26539176, 'reputation': 1, 'user_id': 20170215, 'user_type': 'registered', 'profile_image': 'https://lh3.googleusercontent.com/a/ALm5wu30Mff6t_FHtmixZ1ZNYaTMz5ulsI7lwaRa-ck5=k-s256', 'display_name': 'vikram reddy', 'link': 'https://stackoverflow.com/users/20170215/vikram-reddy'}, 'is_answered': False, 'view_count': 3, 'answer_count': 0, 'score': -1, 'last_activity_date': 1665017729, 'creation_date': 1665017316, 'last_edit_date': 1665017729, 'question_id': 73967631, 'content_license': 'CC BY-SA 4.0', 'link': 'https://stackoverflow.com/questions/73967631/multi-output-multi-classification-problem', 'title': 'multi-output-multi-classification problem'}, {'tags': ['gtsummary'], 'owner': {'account_id': 26536244, 'reputation': 1, 'user_id': 20167741, 'user_type': 'registered', 'profile_image': 'https://www.gravatar.com/avatar/d26fcea41cd3aaf6f06b76f8258030ed?s=256&d=identicon&r=PG', 'display_name': 'Danielle', 'link': 'https://stackoverflow.com/users/20167741/danielle'}, 'is_answered': False, 'view_count': 52, 'answer_count': 0, 'score': 0, 'last_activity_date': 1665017701, 'creation_date': 1664979728, 'last_edit_date': 1665017701, 'question_id': 73961836, 'content_license': 'CC BY-SA 4.0', 'link': 'https://stackoverflow.com/questions/73961836/tbl-strata-count-by-distinct-individual-vs-rows', 'title': 'Tbl_Strata count by distinct individual vs rows'}, {'tags': ['javascript', 'java', 'chart.js'], 'owner': {'account_id': 22353093, 'reputation': 48, 'user_id': 16570842, 'user_type': 'registered', 'profile_image': 'https://i.stack.imgur.com/cUDr0.jpg?s=256&g=1', 'display_name': 'Ironman', 'link': 'https://stackoverflow.com/users/16570842/ironman'}, 'is_answered': False, 'view_count': 4, 'answer_count': 0, 'score': -1, 'last_activity_date': 1665017671, 'creation_date': 1665017671, 'question_id': 73967662, 'content_license': 'CC BY-SA 4.0', 'link': 'https://stackoverflow.com/questions/73967662/chart-js-3-7-1-how-can-i-always-show-the-tooltip', 'title': '(Chart.js 3.7.1) How can I always show the tooltip?'}, {'tags': ['flutter', 'object', 'post'], 'owner': {'account_id': 25306072, 'reputation': 3, 'user_id': 19129582, 'user_type': 'registered', 'profile_image': 'https://lh3.googleusercontent.com/a-/AOh14Ggyi2D1m5TDVxyTTXQAW6Sy2AXyiwwTsufhVVc8_Q=k-s256', 'display_name': 'Syed Faizan', 'link': 'https://stackoverflow.com/users/19129582/syed-faizan'}, 'is_answered': True, 'view_count': 418, 'accepted_answer_id': 72263757, 'answer_count': 3, 'score': 0, 'last_activity_date': 1665017668, 'creation_date': 1652721830, 'last_edit_date': 1652722310, 'question_id': 72263225, 'content_license': 'CC BY-SA 4.0', 'link': 'https://stackoverflow.com/questions/72263225/passing-api-post-request-for-multiple-objects-in-flutter', 'title': 'Passing Api Post Request for multiple Objects in Flutter'}, {'tags': ['arrays', 'multidimensional-array', 'datatable', 'treeview', 'push'], 'owner': {'account_id': 26206238, 'reputation': 1, 'user_id': 19885788, 'user_type': 'registered', 'profile_image': 'https://www.gravatar.com/avatar/d419be03a39f69f9461221ef7e155c5f?s=256&d=identicon&r=PG', 'display_name': 'Bruno Pavasović', 'link': 'https://stackoverflow.com/users/19885788/bruno-pavasovi%c4%87'}, 'is_answered': False, 'view_count': 23, 'answer_count': 0, 'score': 0, 'last_activity_date': 1665017667, 'creation_date': 1664964233, 'last_edit_date': 1665017667, 'question_id': 73958801, 'content_license': 'CC BY-SA 4.0', 'link': 'https://stackoverflow.com/questions/73958801/how-to-push-value-in-array-inside-array-that-is-in-state', 'title': 'How to push value in array inside array that is in state'}, {'tags': ['javascript', 'html', 'css'], 'owner': {'account_id': 12158291, 'reputation': 57, 'user_id': 15639982, 'user_type': 'registered', 'profile_image': 'https://www.gravatar.com/avatar/14511a6460fdc1e370d90ea87d107888?s=256&d=identicon&r=PG&f=1', 'display_name': 'Estudante', 'link': 'https://stackoverflow.com/users/15639982/estudante'}, 'is_answered': False, 'view_count': 3, 'answer_count': 0, 'score': -1, 'last_activity_date': 1665017665, 'creation_date': 1665017665, 'question_id': 73967661, 'content_license': 'CC BY-SA 4.0', 'link': 'https://stackoverflow.com/questions/73967661/how-to-change-table-cell-background-color-using-javascript', 'title': 'How to change table cell background color using javascript?'}, {'tags': ['javascript', 'reactjs'], 'owner': {'account_id': 14230470, 'reputation': 21, 'user_id': 10279867, 'user_type': 'registered', 'profile_image': 'https://www.gravatar.com/avatar/ded5a0b189adffd7eee067ceaefc8468?s=256&d=identicon&r=PG', 'display_name': 'ja vis', 'link': 'https://stackoverflow.com/users/10279867/ja-vis'}, 'is_answered': False, 'view_count': 5, 'answer_count': 0, 'score': 0, 'last_activity_date': 1665017659, 'creation_date': 1665017060, 'last_edit_date': 1665017659, 'question_id': 73967615, 'content_license': 'CC BY-SA 4.0', 'link': 'https://stackoverflow.com/questions/73967615/how-to-stop-dragging-when-child-element-is-scrolling-on-using-usegesture', 'title': 'How to stop dragging when child element is scrolling on using useGesture?'}, {'tags': ['vue.js', 'vuex', 'reactive', 'computed-properties'], 'owner': {'account_id': 15959564, 'reputation': 831, 'user_id': 11517037, 'user_type': 'registered', 'profile_image': 'https://lh5.googleusercontent.com/-87W6Ky-okN4/AAAAAAAAAAI/AAAAAAAAAAA/ACHi3rfMG0yOHSQjMXB6-z_7ka20FySc6w/mo/photo.jpg?sz=256', 'display_name': 'Sergei Illarionov', 'link': 'https://stackoverflow.com/users/11517037/sergei-illarionov'}, 'is_answered': False, 'view_count': 54, 'answer_count': 1, 'score': 0, 'last_activity_date': 1665017647, 'creation_date': 1664993142, 'question_id': 73964531, 'content_license': 'CC BY-SA 4.0', 'link': 'https://stackoverflow.com/questions/73964531/vue-store-and-computed-doesnot-reactive-even-with-vue-set', 'title': 'Vue store and computed doesnot reactive even with vue set'}, {'tags': ['java', 'arrays', 'sorting', 'union'], 'owner': {'account_id': 24196735, 'reputation': 11, 'user_id': 18155161, 'user_type': 'registered', 'profile_image': 'https://lh3.googleusercontent.com/a-/AOh14GhVofqD_Z-IWX_GbMVb-BoZJ87KYgY4BAxdefU_Fg=k-s256', 'display_name': 'CBRrider', 'link': 'https://stackoverflow.com/users/18155161/cbrrider'}, 'is_answered': False, 'view_count': 33, 'answer_count': 0, 'score': 0, 'last_activity_date': 1665017638, 'creation_date': 1665012855, 'last_edit_date': 1665017638, 'question_id': 73967293, 'content_license': 'CC BY-SA 4.0', 'link': 'https://stackoverflow.com/questions/73967293/how-do-i-union-integer-set', 'title': 'How do I union integer set?'}, {'tags': ['python', 'type-hinting', 'mypy', 'python-typing'], 'owner': {'account_id': 7100383, 'reputation': 841, 'user_id': 5432214, 'user_type': 'registered', 'profile_image': 'https://lh4.googleusercontent.com/-EGuZ5o8Nc34/AAAAAAAAAAI/AAAAAAAAAGk/v88_uoI6xDc/photo.jpg?sz=256', 'display_name': 'HitLuca', 'link': 'https://stackoverflow.com/users/5432214/hitluca'}, 'is_answered': True, 'view_count': 1911, 'accepted_answer_id': 68283181, 'answer_count': 2, 'score': 8, 'last_activity_date': 1665017632, 'creation_date': 1625647729, 'last_edit_date': 1633286386, 'question_id': 68282879, 'content_license': 'CC BY-SA 4.0', 'link': 'https://stackoverflow.com/questions/68282879/type-hint-for-return-value-in-subclass', 'title': 'Type hint for return value in subclass'}, {'tags': ['ruby-on-rails', 'ruby-on-rails-4', 'erb'], 'owner': {'account_id': 3380713, 'reputation': 6751, 'user_id': 2837813, 'user_type': 'registered', 'accept_rate': 81, 'profile_image': 'https://i.stack.imgur.com/5Xggf.png?s=256&g=1', 'display_name': 'ProGM', 'link': 'https://stackoverflow.com/users/2837813/progm'}, 'is_answered': False, 'view_count': 279, 'answer_count': 1, 'score': 1, 'last_activity_date': 1665017628, 'creation_date': 1430225544, 'question_id': 29920069, 'content_license': 'CC BY-SA 3.0', 'link': 'https://stackoverflow.com/questions/29920069/assets-pipeline-exclude-list', 'title': 'Assets pipeline exclude list'}, {'tags': ['r'], 'owner': {'account_id': 24886045, 'reputation': 1, 'user_id': 18758643, 'user_type': 'registered', 'profile_image': 'https://lh3.googleusercontent.com/a/AATXAJwg0CFein-sWjFqHYCvFc6H37hUZWyTE6xNXkpm=k-s256', 'display_name': 'ethan Campbell', 'link': 'https://stackoverflow.com/users/18758643/ethan-campbell'}, 'is_answered': False, 'view_count': 11, 'answer_count': 0, 'score': 0, 'last_activity_date': 1665017627, 'creation_date': 1665015847, 'last_edit_date': 1665017627, 'question_id': 73967525, 'content_license': 'CC BY-SA 4.0', 'link': 'https://stackoverflow.com/questions/73967525/pivot-wider-is-giving-a-lot-of-n-a-values-when-reshaping', 'title': 'Pivot_wider is giving a lot of N/A values when reshaping'}, {'tags': ['material-ui'], 'owner': {'account_id': 940048, 'reputation': 3215, 'user_id': 968273, 'user_type': 'registered', 'accept_rate': 59, 'profile_image': 'https://www.gravatar.com/avatar/120ce8144b39ddb9b146dbe706808246?s=256&d=identicon&r=PG', 'display_name': 'GLP', 'link': 'https://stackoverflow.com/users/968273/glp'}, 'is_answered': False, 'view_count': 14, 'answer_count': 0, 'score': 0, 'last_activity_date': 1665017620, 'creation_date': 1665014246, 'last_edit_date': 1665017620, 'question_id': 73967402, 'content_license': 'CC BY-SA 4.0', 'link': 'https://stackoverflow.com/questions/73967402/how-to-use-a-button-to-control-material-ui-v5-datepicker-dialog-open-close', 'title': 'How to use a button to control material ui v5 datepicker dialog open/close?'}, {'tags': ['c#', 'asp.net', 'asp.net-mvc', 'asp.net-mvc-4', 'razor'], 'owner': {'account_id': 4487726, 'reputation': 179, 'user_id': 3649784, 'user_type': 'registered', 'accept_rate': 60, 'profile_image': 'https://i.stack.imgur.com/tZPoX.jpg?s=256&g=1', 'display_name': 'Effy Sille', 'link': 'https://stackoverflow.com/users/3649784/effy-sille'}, 'is_answered': True, 'view_count': 6560, 'accepted_answer_id': 42633205, 'answer_count': 3, 'score': 3, 'last_activity_date': 1665017613, 'creation_date': 1488822528, 'last_edit_date': 1539679512, 'question_id': 42632291, 'content_license': 'CC BY-SA 4.0', 'link': 'https://stackoverflow.com/questions/42632291/get-a-default-null-value-from-dropdownlist-in-asp-net-mvc', 'title': 'Get a default NULL value from DropDownList in ASP.NET MVC'}, {'tags': ['recursion', 'subset', 'combinations', 'permutation', 'backtracking'], 'owner': {'account_id': 22322485, 'reputation': 1, 'user_id': 20171258, 'user_type': 'registered', 'profile_image': 'https://lh3.googleusercontent.com/a/AATXAJykFd7q_8Aa1LwZPxu_-GZTva5Lx_RVMDULs_0z=k-s256', 'display_name': 'Rebecca Deitch', 'link': 'https://stackoverflow.com/users/20171258/rebecca-deitch'}, 'is_answered': False, 'view_count': 3, 'answer_count': 0, 'score': 0, 'last_activity_date': 1665017608, 'creation_date': 1665017608, 'question_id': 73967658, 'content_license': 'CC BY-SA 4.0', 'link': 'https://stackoverflow.com/questions/73967658/backtracking-and-permutations', 'title': 'Backtracking and Permutations'}, {'tags': ['html', 'forms'], 'owner': {'account_id': 22645106, 'reputation': 73, 'user_id': 16820598, 'user_type': 'registered', 'profile_image': 'https://www.gravatar.com/avatar/6e111c538e68ed7526787bc46cfe19cf?s=256&d=identicon&r=PG&f=1', 'display_name': 'Riddhi Vekariya', 'link': 'https://stackoverflow.com/users/16820598/riddhi-vekariya'}, 'is_answered': False, 'view_count': 4, 'answer_count': 0, 'score': 0, 'last_activity_date': 1665017605, 'creation_date': 1665017605, 'question_id': 73967657, 'content_license': 'CC BY-SA 4.0', 'link': 'https://stackoverflow.com/questions/73967657/html-input-type-that-allows-to-type-but-user-has-to-choose-from-dropdown', 'title': 'HTML Input type that allows to type but user has to choose from dropdown'}, {'tags': ['linux', 'exception', 'operating-system', 'page-fault'], 'owner': {'account_id': 18186116, 'reputation': 121, 'user_id': 13232804, 'user_type': 'registered', 'profile_image': 'https://www.gravatar.com/avatar/17c5bc768a11c5f614bfb8dd4c9da20f?s=256&d=identicon&r=PG&f=1', 'display_name': 'ballsmahoney', 'link': 'https://stackoverflow.com/users/13232804/ballsmahoney'}, 'is_answered': False, 'view_count': 3, 'answer_count': 0, 'score': 0, 'last_activity_date': 1665017598, 'creation_date': 1665017598, 'question_id': 73967656, 'content_license': 'CC BY-SA 4.0', 'link': 'https://stackoverflow.com/questions/73967656/do-page-faults-automatically-invoke-the-operating-system', 'title': 'Do Page Faults automatically invoke the Operating System?'}, {'tags': ['amazon-web-services', 'amazon-s3', 'amazon-rekognition'], 'owner': {'account_id': 25784585, 'reputation': 11, 'user_id': 19529650, 'user_type': 'registered', 'profile_image': 'https://i.stack.imgur.com/qYTWg.jpg?s=256&g=1', 'display_name': 'Eduardo Nicolalde', 'link': 'https://stackoverflow.com/users/19529650/eduardo-nicolalde'}, 'is_answered': False, 'view_count': 22, 'answer_count': 1, 'score': 0, 'last_activity_date': 1665017593, 'creation_date': 1665007065, 'question_id': 73966708, 'content_license': 'CC BY-SA 4.0', 'link': 'https://stackoverflow.com/questions/73966708/aws-rekognition-request-has-invalid-image-format', 'title': 'AWS rekognition Request has invalid image format'}, {'tags': ['git', 'go', 'github'], 'owner': {'account_id': 45660, 'reputation': 34432, 'user_id': 134702, 'user_type': 'registered', 'accept_rate': 81, 'profile_image': 'https://www.gravatar.com/avatar/7c1594304f3515b88e31bc8888f0f593?s=256&d=identicon&r=PG', 'display_name': 'hookenz', 'link': 'https://stackoverflow.com/users/134702/hookenz'}, 'is_answered': False, 'view_count': 3, 'answer_count': 0, 'score': 0, 'last_activity_date': 1665017590, 'creation_date': 1665017590, 'question_id': 73967655, 'content_license': 'CC BY-SA 4.0', 'link': 'https://stackoverflow.com/questions/73967655/check-if-commit-hash-is-only-included-in-a-branch-on-a-remote-repo', 'title': 'Check if commit hash is only included in a branch on a remote repo'}, {'tags': ['java', 'drjava'], 'owner': {'account_id': 17195088, 'reputation': 17, 'user_id': 12448048, 'user_type': 'registered', 'profile_image': 'https://www.gravatar.com/avatar/204b38449085c5e903d1010c7e4644aa?s=256&d=identicon&r=PG', 'display_name': 'Jaret Sanchez', 'link': 'https://stackoverflow.com/users/12448048/jaret-sanchez'}, 'is_answered': False, 'view_count': 3, 'answer_count': 0, 'score': 0, 'last_activity_date': 1665017587, 'creation_date': 1665017587, 'question_id': 73967654, 'content_license': 'CC BY-SA 4.0', 'link': 'https://stackoverflow.com/questions/73967654/changing-specific-time-variable-fields-changes-whole-time-variable', 'title': 'Changing specific time variable fields changes whole time variable'}, {'tags': ['javascript', 'express', 'axios'], 'owner': {'account_id': 16894019, 'reputation': 175, 'user_id': 12216998, 'user_type': 'registered', 'profile_image': 'https://lh3.googleusercontent.com/-EGYojHgpBFg/AAAAAAAAAAI/AAAAAAAAAAA/ACHi3rem5PbvOAH3WJ_w4SbJ2BaLVrUxzw/photo.jpg?sz=256', 'display_name': 'Thomas', 'link': 'https://stackoverflow.com/users/12216998/thomas'}, 'is_answered': False, 'view_count': 6, 'answer_count': 0, 'score': -1, 'last_activity_date': 1665017578, 'creation_date': 1665017578, 'question_id': 73967653, 'content_license': 'CC BY-SA 4.0', 'link': 'https://stackoverflow.com/questions/73967653/axios-returning-invalid-api-key-you-must-be-granted-a-valid-key-after-reques', 'title': 'Axios returning &#39;Invalid API key: You must be granted a valid key.&#39; after requests to TMDB'}, {'tags': ['javascript', 'mongodb', 'aggregation'], 'owner': {'account_id': 26540482, 'reputation': 1, 'user_id': 20171313, 'user_type': 'registered', 'profile_image': 'https://lh3.googleusercontent.com/a/ALm5wu2wKSvy6ltjbgawywYeH1D6g7VZMAJduCCx7Ii0=k-s256', 'display_name': 'chiElephant', 'link': 'https://stackoverflow.com/users/20171313/chielephant'}, 'is_answered': False, 'view_count': 4, 'answer_count': 0, 'score': 0, 'last_activity_date': 1665017573, 'creation_date': 1665017573, 'question_id': 73967652, 'content_license': 'CC BY-SA 4.0', 'link': 'https://stackoverflow.com/questions/73967652/mongodb-turn-embedded-array-of-objects-into-embedded-object-of-objects', 'title': 'MongoDB -&gt; turn embedded array of objects into embedded object of objects'}, {'tags': ['typescript', 'module', 'babeljs', 'babel-loader'], 'owner': {'account_id': 923809, 'reputation': 70310, 'user_id': 954986, 'user_type': 'registered', 'accept_rate': 63, 'profile_image': 'https://i.stack.imgur.com/LT4wS.png?s=256&g=1', 'display_name': 'Nathan', 'link': 'https://stackoverflow.com/users/954986/nathan'}, 'is_answered': True, 'view_count': 80, 'bounty_amount': 500, 'bounty_closes_date': 1665608151, 'accepted_answer_id': 73967305, 'answer_count': 1, 'score': 0, 'last_activity_date': 1665017552, 'creation_date': 1664745898, 'question_id': 73929449, 'content_license': 'CC BY-SA 4.0', 'link': 'https://stackoverflow.com/questions/73929449/how-to-create-typescript-module-definition-a-for-a-babel-plugin-content-transfor', 'title': 'How to create Typescript module definition a for a babel-plugin-content-transformer directory?'}, {'tags': ['javascript', 'python', 'json', 'python-3.x'], 'owner': {'account_id': 472589, 'reputation': 918, 'user_id': 881150, 'user_type': 'registered', 'accept_rate': 52, 'profile_image': 'https://www.gravatar.com/avatar/7b26d6dd4aea0f6b5b7b617bea89e246?s=256&d=identicon&r=PG', 'display_name': 'abhinav singh', 'link': 'https://stackoverflow.com/users/881150/abhinav-singh'}, 'is_answered': False, 'view_count': 33, 'answer_count': 1, 'score': 0, 'last_activity_date': 1665017545, 'creation_date': 1665007167, 'last_edit_date': 1665013217, 'question_id': 73966718, 'content_license': 'CC BY-SA 4.0', 'link': 'https://stackoverflow.com/questions/73966718/inserting-values-into-js-scripts-using-python', 'title': 'Inserting values into JS scripts using python'}, {'tags': ['c#', 'unity3d', 'io'], 'owner': {'account_id': 12535291, 'reputation': 672, 'user_id': 9122129, 'user_type': 'registered', 'profile_image': 'https://i.stack.imgur.com/oLWLH.png?s=256&g=1', 'display_name': 'ViktorMS', 'link': 'https://stackoverflow.com/users/9122129/viktorms'}, 'is_answered': False, 'view_count': 14, 'answer_count': 2, 'score': 0, 'last_activity_date': 1665017542, 'creation_date': 1665012981, 'question_id': 73967299, 'content_license': 'CC BY-SA 4.0', 'link': 'https://stackoverflow.com/questions/73967299/detect-mouse-released-in-unity-new-input-system', 'title': 'Detect mouse released in Unity new input system'}, {'tags': ['git', 'github'], 'owner': {'account_id': 26203002, 'reputation': 11, 'user_id': 19883046, 'user_type': 'registered', 'profile_image': 'https://www.gravatar.com/avatar/34c11af297d917728b1a65a18bcac59c?s=256&d=identicon&r=PG', 'display_name': 'maxheezy&#39;s', 'link': 'https://stackoverflow.com/users/19883046/maxheezys'}, 'is_answered': False, 'view_count': 8, 'answer_count': 1, 'score': 0, 'last_activity_date': 1665017538, 'creation_date': 1665016521, 'question_id': 73967577, 'content_license': 'CC BY-SA 4.0', 'link': 'https://stackoverflow.com/questions/73967577/how-to-get-the-most-recent-commits-in-my-github-repository-to-show-in-vscode', 'title': 'How to get the most recent commits in my github repository to show in vscode'}, {'tags': ['google-apps-script', 'visual-studio-code', 'clasp'], 'owner': {'account_id': 2458991, 'reputation': 143, 'user_id': 2143528, 'user_type': 'registered', 'profile_image': 'https://www.gravatar.com/avatar/f9e9c3d2fdfc3fdb0c287e257025a912?s=256&d=identicon&r=PG', 'display_name': 'an d re', 'link': 'https://stackoverflow.com/users/2143528/an-d-re'}, 'is_answered': False, 'view_count': 410, 'answer_count': 1, 'score': 12, 'last_activity_date': 1665017536, 'creation_date': 1558442444, 'last_edit_date': 1558443857, 'question_id': 56238534, 'content_license': 'CC BY-SA 4.0', 'link': 'https://stackoverflow.com/questions/56238534/make-vscode-syntax-highlighting-accept-google-apps-script-scriptlets', 'title': 'Make VSCode syntax highlighting accept Google Apps Script Scriptlets'}]\n"
     ]
    }
   ],
   "source": [
    "print(response.json()['items']) # we have just list of questions"
   ]
  },
  {
   "cell_type": "markdown",
   "metadata": {},
   "source": [
    "#### Now I just want to see the titles from the data above which mght be converted into data frame for analytics later"
   ]
  },
  {
   "cell_type": "code",
   "execution_count": 14,
   "metadata": {},
   "outputs": [
    {
     "name": "stdout",
     "output_type": "stream",
     "text": [
      "how to convert itens of a column into an array or list?\n",
      "How do I edit / output files programmatically without Adobe Illustrator?\n",
      "How can you define a concatenated string as a variable in Java\n",
      "multi-output-multi-classification problem\n",
      "Tbl_Strata count by distinct individual vs rows\n",
      "(Chart.js 3.7.1) How can I always show the tooltip?\n",
      "Passing Api Post Request for multiple Objects in Flutter\n",
      "How to push value in array inside array that is in state\n",
      "How to change table cell background color using javascript?\n",
      "How to stop dragging when child element is scrolling on using useGesture?\n",
      "Vue store and computed doesnot reactive even with vue set\n",
      "How do I union integer set?\n",
      "Type hint for return value in subclass\n",
      "Assets pipeline exclude list\n",
      "Pivot_wider is giving a lot of N/A values when reshaping\n",
      "How to use a button to control material ui v5 datepicker dialog open/close?\n",
      "Get a default NULL value from DropDownList in ASP.NET MVC\n",
      "Backtracking and Permutations\n",
      "HTML Input type that allows to type but user has to choose from dropdown\n",
      "Do Page Faults automatically invoke the Operating System?\n",
      "AWS rekognition Request has invalid image format\n",
      "Check if commit hash is only included in a branch on a remote repo\n",
      "Changing specific time variable fields changes whole time variable\n",
      "Axios returning &#39;Invalid API key: You must be granted a valid key.&#39; after requests to TMDB\n",
      "MongoDB -&gt; turn embedded array of objects into embedded object of objects\n",
      "How to create Typescript module definition a for a babel-plugin-content-transformer directory?\n",
      "Inserting values into JS scripts using python\n",
      "Detect mouse released in Unity new input system\n",
      "How to get the most recent commits in my github repository to show in vscode\n",
      "Make VSCode syntax highlighting accept Google Apps Script Scriptlets\n"
     ]
    }
   ],
   "source": [
    "\n",
    "for questions in response.json()['items']:\n",
    "    print(questions['title'])"
   ]
  },
  {
   "cell_type": "code",
   "execution_count": 18,
   "metadata": {},
   "outputs": [
    {
     "name": "stdout",
     "output_type": "stream",
     "text": [
      "how to convert itens of a column into an array or list?\n",
      "https://stackoverflow.com/questions/73967391/how-to-convert-itens-of-a-column-into-an-array-or-list\n",
      "\n",
      "How do I edit / output files programmatically without Adobe Illustrator?\n",
      "https://stackoverflow.com/questions/73966861/how-do-i-edit-output-files-programmatically-without-adobe-illustrator\n",
      "\n",
      "How can you define a concatenated string as a variable in Java\n",
      "https://stackoverflow.com/questions/73967203/how-can-you-define-a-concatenated-string-as-a-variable-in-java\n",
      "\n",
      "multi-output-multi-classification problem\n",
      "https://stackoverflow.com/questions/73967631/multi-output-multi-classification-problem\n",
      "\n",
      "Tbl_Strata count by distinct individual vs rows\n",
      "https://stackoverflow.com/questions/73961836/tbl-strata-count-by-distinct-individual-vs-rows\n",
      "\n",
      "(Chart.js 3.7.1) How can I always show the tooltip?\n",
      "https://stackoverflow.com/questions/73967662/chart-js-3-7-1-how-can-i-always-show-the-tooltip\n",
      "\n",
      "Passing Api Post Request for multiple Objects in Flutter\n",
      "https://stackoverflow.com/questions/72263225/passing-api-post-request-for-multiple-objects-in-flutter\n",
      "\n",
      "How to push value in array inside array that is in state\n",
      "https://stackoverflow.com/questions/73958801/how-to-push-value-in-array-inside-array-that-is-in-state\n",
      "\n",
      "How to change table cell background color using javascript?\n",
      "https://stackoverflow.com/questions/73967661/how-to-change-table-cell-background-color-using-javascript\n",
      "\n",
      "How to stop dragging when child element is scrolling on using useGesture?\n",
      "https://stackoverflow.com/questions/73967615/how-to-stop-dragging-when-child-element-is-scrolling-on-using-usegesture\n",
      "\n",
      "Vue store and computed doesnot reactive even with vue set\n",
      "https://stackoverflow.com/questions/73964531/vue-store-and-computed-doesnot-reactive-even-with-vue-set\n",
      "\n",
      "How do I union integer set?\n",
      "https://stackoverflow.com/questions/73967293/how-do-i-union-integer-set\n",
      "\n",
      "Type hint for return value in subclass\n",
      "https://stackoverflow.com/questions/68282879/type-hint-for-return-value-in-subclass\n",
      "\n",
      "Assets pipeline exclude list\n",
      "https://stackoverflow.com/questions/29920069/assets-pipeline-exclude-list\n",
      "\n",
      "Pivot_wider is giving a lot of N/A values when reshaping\n",
      "https://stackoverflow.com/questions/73967525/pivot-wider-is-giving-a-lot-of-n-a-values-when-reshaping\n",
      "\n",
      "How to use a button to control material ui v5 datepicker dialog open/close?\n",
      "https://stackoverflow.com/questions/73967402/how-to-use-a-button-to-control-material-ui-v5-datepicker-dialog-open-close\n",
      "\n",
      "Get a default NULL value from DropDownList in ASP.NET MVC\n",
      "https://stackoverflow.com/questions/42632291/get-a-default-null-value-from-dropdownlist-in-asp-net-mvc\n",
      "\n",
      "Backtracking and Permutations\n",
      "https://stackoverflow.com/questions/73967658/backtracking-and-permutations\n",
      "\n",
      "HTML Input type that allows to type but user has to choose from dropdown\n",
      "https://stackoverflow.com/questions/73967657/html-input-type-that-allows-to-type-but-user-has-to-choose-from-dropdown\n",
      "\n",
      "Do Page Faults automatically invoke the Operating System?\n",
      "https://stackoverflow.com/questions/73967656/do-page-faults-automatically-invoke-the-operating-system\n",
      "\n",
      "AWS rekognition Request has invalid image format\n",
      "https://stackoverflow.com/questions/73966708/aws-rekognition-request-has-invalid-image-format\n",
      "\n",
      "Check if commit hash is only included in a branch on a remote repo\n",
      "https://stackoverflow.com/questions/73967655/check-if-commit-hash-is-only-included-in-a-branch-on-a-remote-repo\n",
      "\n",
      "Changing specific time variable fields changes whole time variable\n",
      "https://stackoverflow.com/questions/73967654/changing-specific-time-variable-fields-changes-whole-time-variable\n",
      "\n",
      "Axios returning &#39;Invalid API key: You must be granted a valid key.&#39; after requests to TMDB\n",
      "https://stackoverflow.com/questions/73967653/axios-returning-invalid-api-key-you-must-be-granted-a-valid-key-after-reques\n",
      "\n",
      "MongoDB -&gt; turn embedded array of objects into embedded object of objects\n",
      "https://stackoverflow.com/questions/73967652/mongodb-turn-embedded-array-of-objects-into-embedded-object-of-objects\n",
      "\n",
      "How to create Typescript module definition a for a babel-plugin-content-transformer directory?\n",
      "https://stackoverflow.com/questions/73929449/how-to-create-typescript-module-definition-a-for-a-babel-plugin-content-transfor\n",
      "\n",
      "Inserting values into JS scripts using python\n",
      "https://stackoverflow.com/questions/73966718/inserting-values-into-js-scripts-using-python\n",
      "\n",
      "Detect mouse released in Unity new input system\n",
      "https://stackoverflow.com/questions/73967299/detect-mouse-released-in-unity-new-input-system\n",
      "\n",
      "How to get the most recent commits in my github repository to show in vscode\n",
      "https://stackoverflow.com/questions/73967577/how-to-get-the-most-recent-commits-in-my-github-repository-to-show-in-vscode\n",
      "\n",
      "Make VSCode syntax highlighting accept Google Apps Script Scriptlets\n",
      "https://stackoverflow.com/questions/56238534/make-vscode-syntax-highlighting-accept-google-apps-script-scriptlets\n",
      "\n"
     ]
    }
   ],
   "source": [
    "for questions in response.json()['items']:\n",
    "    print(questions['title'])\n",
    "    print(questions['link'])\n",
    "    print()"
   ]
  },
  {
   "cell_type": "code",
   "execution_count": 19,
   "metadata": {},
   "outputs": [],
   "source": [
    "ques =[]\n",
    "link = []\n",
    "ans_cnt = []\n",
    "for questions in response.json()['items']:\n",
    "    ques.append(questions['title'])\n",
    "    link.append(questions['link'])\n",
    "    ans_cnt.append(questions['answer_count'])"
   ]
  },
  {
   "cell_type": "markdown",
   "metadata": {},
   "source": [
    "### Converting the whole data into a dataframe"
   ]
  },
  {
   "cell_type": "code",
   "execution_count": 21,
   "metadata": {},
   "outputs": [],
   "source": [
    "Stck_ovrflw = pd.DataFrame(\n",
    "    {'Questions': ques,\n",
    "     'Link': link,\n",
    "     'answer_cnt': ans_cnt\n",
    "    })"
   ]
  },
  {
   "cell_type": "code",
   "execution_count": 23,
   "metadata": {},
   "outputs": [
    {
     "data": {
      "text/html": [
       "<div>\n",
       "<style scoped>\n",
       "    .dataframe tbody tr th:only-of-type {\n",
       "        vertical-align: middle;\n",
       "    }\n",
       "\n",
       "    .dataframe tbody tr th {\n",
       "        vertical-align: top;\n",
       "    }\n",
       "\n",
       "    .dataframe thead th {\n",
       "        text-align: right;\n",
       "    }\n",
       "</style>\n",
       "<table border=\"1\" class=\"dataframe\">\n",
       "  <thead>\n",
       "    <tr style=\"text-align: right;\">\n",
       "      <th></th>\n",
       "      <th>Questions</th>\n",
       "      <th>Link</th>\n",
       "      <th>answer_cnt</th>\n",
       "    </tr>\n",
       "  </thead>\n",
       "  <tbody>\n",
       "    <tr>\n",
       "      <th>0</th>\n",
       "      <td>how to convert itens of a column into an array...</td>\n",
       "      <td>https://stackoverflow.com/questions/73967391/h...</td>\n",
       "      <td>1</td>\n",
       "    </tr>\n",
       "    <tr>\n",
       "      <th>1</th>\n",
       "      <td>How do I edit / output files programmatically ...</td>\n",
       "      <td>https://stackoverflow.com/questions/73966861/h...</td>\n",
       "      <td>0</td>\n",
       "    </tr>\n",
       "    <tr>\n",
       "      <th>2</th>\n",
       "      <td>How can you define a concatenated string as a ...</td>\n",
       "      <td>https://stackoverflow.com/questions/73967203/h...</td>\n",
       "      <td>0</td>\n",
       "    </tr>\n",
       "    <tr>\n",
       "      <th>3</th>\n",
       "      <td>multi-output-multi-classification problem</td>\n",
       "      <td>https://stackoverflow.com/questions/73967631/m...</td>\n",
       "      <td>0</td>\n",
       "    </tr>\n",
       "    <tr>\n",
       "      <th>4</th>\n",
       "      <td>Tbl_Strata count by distinct individual vs rows</td>\n",
       "      <td>https://stackoverflow.com/questions/73961836/t...</td>\n",
       "      <td>0</td>\n",
       "    </tr>\n",
       "  </tbody>\n",
       "</table>\n",
       "</div>"
      ],
      "text/plain": [
       "                                           Questions  \\\n",
       "0  how to convert itens of a column into an array...   \n",
       "1  How do I edit / output files programmatically ...   \n",
       "2  How can you define a concatenated string as a ...   \n",
       "3          multi-output-multi-classification problem   \n",
       "4    Tbl_Strata count by distinct individual vs rows   \n",
       "\n",
       "                                                Link  answer_cnt  \n",
       "0  https://stackoverflow.com/questions/73967391/h...           1  \n",
       "1  https://stackoverflow.com/questions/73966861/h...           0  \n",
       "2  https://stackoverflow.com/questions/73967203/h...           0  \n",
       "3  https://stackoverflow.com/questions/73967631/m...           0  \n",
       "4  https://stackoverflow.com/questions/73961836/t...           0  "
      ]
     },
     "execution_count": 23,
     "metadata": {},
     "output_type": "execute_result"
    }
   ],
   "source": [
    "Stck_ovrflw.head(5)"
   ]
  },
  {
   "cell_type": "raw",
   "metadata": {},
   "source": [
    "SOAP requires more bandwidth becuase it sens in enevelopes and supports xml only\n",
    "REST uses HTTP requests for CRUD operations. Postcard and requires less bandwidth not limited to only xml but json and text files \n",
    "json are javascript objects\n",
    "\n",
    "REST body: Header, operation, parameter, endpoints.\n",
    "\n",
    "For example take the following URL: http://www.google.com/images, our endpoint images at google.com will take us to the images search page on google.\n",
    "\n",
    "Data extraction using webscrapping, azure data factory"
   ]
  }
 ],
 "metadata": {
  "kernelspec": {
   "display_name": "Python 3",
   "language": "python",
   "name": "python3"
  },
  "language_info": {
   "codemirror_mode": {
    "name": "ipython",
    "version": 3
   },
   "file_extension": ".py",
   "mimetype": "text/x-python",
   "name": "python",
   "nbconvert_exporter": "python",
   "pygments_lexer": "ipython3",
   "version": "3.7.3"
  }
 },
 "nbformat": 4,
 "nbformat_minor": 2
}
